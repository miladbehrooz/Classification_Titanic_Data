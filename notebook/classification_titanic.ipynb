{
 "cells": [
  {
   "cell_type": "markdown",
   "id": "14d34012-bce6-4f57-bf0e-4de2d016d7c9",
   "metadata": {},
   "source": [
    "### Load Libraries"
   ]
  },
  {
   "cell_type": "code",
   "execution_count": 68,
   "id": "a3f18c48-e658-487e-a968-757e9deeb161",
   "metadata": {},
   "outputs": [],
   "source": [
    "import pandas as pd\n",
    "import numpy as np\n",
    "import seaborn as sns\n",
    "import matplotlib.pyplot as plt\n",
    "\n",
    "from sklearn.model_selection import train_test_split, cross_val_score\n",
    "from sklearn.pipeline import make_pipeline\n",
    "from sklearn.impute import SimpleImputer\n",
    "from sklearn.preprocessing import StandardScaler, OneHotEncoder, KBinsDiscretizer, RobustScaler, OrdinalEncoder\n",
    "from sklearn.compose import ColumnTransformer\n",
    "from sklearn.preprocessing import FunctionTransformer\n",
    "\n",
    "\n",
    "from sklearn.linear_model import LogisticRegression\n",
    "from sklearn import metrics\n",
    "\n",
    "from sklearn import set_config\n",
    "set_config(display='diagram')"
   ]
  },
  {
   "cell_type": "markdown",
   "id": "fbbae985-45bb-4587-9275-681ee706f19d",
   "metadata": {},
   "source": [
    "### Load Data"
   ]
  },
  {
   "cell_type": "code",
   "execution_count": 8,
   "id": "e1f7ef68-90e0-4646-80aa-8be75449c0f6",
   "metadata": {},
   "outputs": [
    {
     "data": {
      "text/html": [
       "<div>\n",
       "<style scoped>\n",
       "    .dataframe tbody tr th:only-of-type {\n",
       "        vertical-align: middle;\n",
       "    }\n",
       "\n",
       "    .dataframe tbody tr th {\n",
       "        vertical-align: top;\n",
       "    }\n",
       "\n",
       "    .dataframe thead th {\n",
       "        text-align: right;\n",
       "    }\n",
       "</style>\n",
       "<table border=\"1\" class=\"dataframe\">\n",
       "  <thead>\n",
       "    <tr style=\"text-align: right;\">\n",
       "      <th></th>\n",
       "      <th>Survived</th>\n",
       "      <th>Pclass</th>\n",
       "      <th>Name</th>\n",
       "      <th>Sex</th>\n",
       "      <th>Age</th>\n",
       "      <th>SibSp</th>\n",
       "      <th>Parch</th>\n",
       "      <th>Ticket</th>\n",
       "      <th>Fare</th>\n",
       "      <th>Cabin</th>\n",
       "      <th>Embarked</th>\n",
       "    </tr>\n",
       "    <tr>\n",
       "      <th>PassengerId</th>\n",
       "      <th></th>\n",
       "      <th></th>\n",
       "      <th></th>\n",
       "      <th></th>\n",
       "      <th></th>\n",
       "      <th></th>\n",
       "      <th></th>\n",
       "      <th></th>\n",
       "      <th></th>\n",
       "      <th></th>\n",
       "      <th></th>\n",
       "    </tr>\n",
       "  </thead>\n",
       "  <tbody>\n",
       "    <tr>\n",
       "      <th>1</th>\n",
       "      <td>0</td>\n",
       "      <td>3</td>\n",
       "      <td>Braund, Mr. Owen Harris</td>\n",
       "      <td>male</td>\n",
       "      <td>22.0</td>\n",
       "      <td>1</td>\n",
       "      <td>0</td>\n",
       "      <td>A/5 21171</td>\n",
       "      <td>7.2500</td>\n",
       "      <td>NaN</td>\n",
       "      <td>S</td>\n",
       "    </tr>\n",
       "    <tr>\n",
       "      <th>2</th>\n",
       "      <td>1</td>\n",
       "      <td>1</td>\n",
       "      <td>Cumings, Mrs. John Bradley (Florence Briggs Th...</td>\n",
       "      <td>female</td>\n",
       "      <td>38.0</td>\n",
       "      <td>1</td>\n",
       "      <td>0</td>\n",
       "      <td>PC 17599</td>\n",
       "      <td>71.2833</td>\n",
       "      <td>C85</td>\n",
       "      <td>C</td>\n",
       "    </tr>\n",
       "    <tr>\n",
       "      <th>3</th>\n",
       "      <td>1</td>\n",
       "      <td>3</td>\n",
       "      <td>Heikkinen, Miss. Laina</td>\n",
       "      <td>female</td>\n",
       "      <td>26.0</td>\n",
       "      <td>0</td>\n",
       "      <td>0</td>\n",
       "      <td>STON/O2. 3101282</td>\n",
       "      <td>7.9250</td>\n",
       "      <td>NaN</td>\n",
       "      <td>S</td>\n",
       "    </tr>\n",
       "    <tr>\n",
       "      <th>4</th>\n",
       "      <td>1</td>\n",
       "      <td>1</td>\n",
       "      <td>Futrelle, Mrs. Jacques Heath (Lily May Peel)</td>\n",
       "      <td>female</td>\n",
       "      <td>35.0</td>\n",
       "      <td>1</td>\n",
       "      <td>0</td>\n",
       "      <td>113803</td>\n",
       "      <td>53.1000</td>\n",
       "      <td>C123</td>\n",
       "      <td>S</td>\n",
       "    </tr>\n",
       "    <tr>\n",
       "      <th>5</th>\n",
       "      <td>0</td>\n",
       "      <td>3</td>\n",
       "      <td>Allen, Mr. William Henry</td>\n",
       "      <td>male</td>\n",
       "      <td>35.0</td>\n",
       "      <td>0</td>\n",
       "      <td>0</td>\n",
       "      <td>373450</td>\n",
       "      <td>8.0500</td>\n",
       "      <td>NaN</td>\n",
       "      <td>S</td>\n",
       "    </tr>\n",
       "  </tbody>\n",
       "</table>\n",
       "</div>"
      ],
      "text/plain": [
       "             Survived  Pclass  \\\n",
       "PassengerId                     \n",
       "1                   0       3   \n",
       "2                   1       1   \n",
       "3                   1       3   \n",
       "4                   1       1   \n",
       "5                   0       3   \n",
       "\n",
       "                                                          Name     Sex   Age  \\\n",
       "PassengerId                                                                    \n",
       "1                                      Braund, Mr. Owen Harris    male  22.0   \n",
       "2            Cumings, Mrs. John Bradley (Florence Briggs Th...  female  38.0   \n",
       "3                                       Heikkinen, Miss. Laina  female  26.0   \n",
       "4                 Futrelle, Mrs. Jacques Heath (Lily May Peel)  female  35.0   \n",
       "5                                     Allen, Mr. William Henry    male  35.0   \n",
       "\n",
       "             SibSp  Parch            Ticket     Fare Cabin Embarked  \n",
       "PassengerId                                                          \n",
       "1                1      0         A/5 21171   7.2500   NaN        S  \n",
       "2                1      0          PC 17599  71.2833   C85        C  \n",
       "3                0      0  STON/O2. 3101282   7.9250   NaN        S  \n",
       "4                1      0            113803  53.1000  C123        S  \n",
       "5                0      0            373450   8.0500   NaN        S  "
      ]
     },
     "execution_count": 8,
     "metadata": {},
     "output_type": "execute_result"
    }
   ],
   "source": [
    "data = pd.read_csv(\"../data/train.csv\",index_col=0)\n",
    "data.head()"
   ]
  },
  {
   "cell_type": "code",
   "execution_count": 9,
   "id": "44ea97eb-6c06-48b9-9f47-422da7646166",
   "metadata": {},
   "outputs": [
    {
     "data": {
      "text/plain": [
       "Survived      0\n",
       "Pclass        0\n",
       "Name          0\n",
       "Sex           0\n",
       "Age         177\n",
       "SibSp         0\n",
       "Parch         0\n",
       "Ticket        0\n",
       "Fare          0\n",
       "Cabin       687\n",
       "Embarked      2\n",
       "dtype: int64"
      ]
     },
     "execution_count": 9,
     "metadata": {},
     "output_type": "execute_result"
    }
   ],
   "source": [
    "# check missing values\n",
    "data.isna().sum()"
   ]
  },
  {
   "cell_type": "markdown",
   "id": "8b4eb148-435e-45c7-b950-5f156f3a8b89",
   "metadata": {},
   "source": [
    "### Exploratory Data Analysis"
   ]
  },
  {
   "cell_type": "markdown",
   "id": "1ef2beaa-5014-4210-8a0b-75c3e68ca8f1",
   "metadata": {},
   "source": [
    "number of survived and non_survived passengers"
   ]
  },
  {
   "cell_type": "code",
   "execution_count": 10,
   "id": "9281a11e-2736-4fa2-80bc-b93e1d89a59f",
   "metadata": {},
   "outputs": [
    {
     "name": "stdout",
     "output_type": "stream",
     "text": [
      "survived : 342 \n",
      "non_survived: 549\n"
     ]
    }
   ],
   "source": [
    "y = data['Survived']\n",
    "survived = sum(y == 1)\n",
    "not_survived = sum(y == 0)\n",
    "\n",
    "print(\"survived : %s \\nnon_survived: %s\" \n",
    "     %(survived,not_survived))"
   ]
  },
  {
   "cell_type": "code",
   "execution_count": 11,
   "id": "6af8c090-d227-4a61-82ca-409f2639f95b",
   "metadata": {},
   "outputs": [
    {
     "data": {
      "image/png": "[encoded data removed]",
      "text/plain": [
       "<Figure size 432x288 with 1 Axes>"
      ]
     },
     "metadata": {
      "needs_background": "light"
     },
     "output_type": "display_data"
    }
   ],
   "source": [
    "sns.countplot(x='Survived',data=data);"
   ]
  },
  {
   "cell_type": "markdown",
   "id": "37c981c0-ce34-462f-aadd-c18c2299d9e6",
   "metadata": {},
   "source": [
    "proportion of surviving 1st class passengers with regards to the total number of 1st class passengers"
   ]
  },
  {
   "cell_type": "code",
   "execution_count": 12,
   "id": "066df093-a08d-4034-a975-74f08b10cc29",
   "metadata": {},
   "outputs": [
    {
     "name": "stdout",
     "output_type": "stream",
     "text": [
      "62.96 percent of 1st class passengers were survived.\n"
     ]
    }
   ],
   "source": [
    "data_first_class = data [data['Pclass'] == 1] \n",
    "data_first_class_survived = data[(data['Pclass'] == 1) & (data['Survived'] == 1)]\n",
    "\n",
    "prop = data_first_class_survived.shape[0] / data_first_class.shape[0] * 100\n",
    "print(f'{round(prop,2)} percent of 1st class passengers were survived.') "
   ]
  },
  {
   "cell_type": "markdown",
   "id": "35927274-3384-467b-a83d-e1fba3853aab",
   "metadata": {},
   "source": [
    "Bar chart for Sex"
   ]
  },
  {
   "cell_type": "code",
   "execution_count": 13,
   "id": "8f76e049-46d9-4cbf-9190-7b339233209c",
   "metadata": {},
   "outputs": [
    {
     "data": {
      "image/png": "[encoded data removed]",
      "text/plain": [
       "<Figure size 432x288 with 1 Axes>"
      ]
     },
     "metadata": {
      "needs_background": "light"
     },
     "output_type": "display_data"
    }
   ],
   "source": [
    "sns.countplot(data = data, x = 'Sex', hue = \"Survived\");"
   ]
  },
  {
   "cell_type": "markdown",
   "id": "785bc8ff-5cd9-43e6-8adf-b8e414b82380",
   "metadata": {},
   "source": [
    "Bar chart for  Pclass"
   ]
  },
  {
   "cell_type": "code",
   "execution_count": 14,
   "id": "a4a3e034-1118-4296-904f-17745f74f72d",
   "metadata": {},
   "outputs": [
    {
     "data": {
      "image/png": "[encoded data removed]",
      "text/plain": [
       "<Figure size 432x288 with 1 Axes>"
      ]
     },
     "metadata": {
      "needs_background": "light"
     },
     "output_type": "display_data"
    }
   ],
   "source": [
    "sns.countplot(x='Pclass',data=data,hue='Sex');"
   ]
  },
  {
   "cell_type": "code",
   "execution_count": 15,
   "id": "1b096076-f3a0-42b2-b6e0-370a2f774c45",
   "metadata": {},
   "outputs": [
    {
     "data": {
      "image/png": "[encoded data removed]",
      "text/plain": [
       "<Figure size 432x288 with 1 Axes>"
      ]
     },
     "metadata": {
      "needs_background": "light"
     },
     "output_type": "display_data"
    }
   ],
   "source": [
    "sns.countplot(x=\"Survived\", data = data, hue = \"Pclass\");"
   ]
  },
  {
   "cell_type": "markdown",
   "id": "684bda3a-b8ab-49cf-9d47-399af71a95c2",
   "metadata": {},
   "source": [
    "Age distribution"
   ]
  },
  {
   "cell_type": "code",
   "execution_count": 16,
   "id": "c4d8c8e1-592e-4ac5-9477-22d887b29598",
   "metadata": {},
   "outputs": [
    {
     "data": {
      "image/png": "[encoded data removed]",
      "text/plain": [
       "<Figure size 432x288 with 1 Axes>"
      ]
     },
     "metadata": {
      "needs_background": "light"
     },
     "output_type": "display_data"
    }
   ],
   "source": [
    "sns.histplot(\n",
    "    data = data,\n",
    "    x = \"Age\", hue=\"Survived\",\n",
    "    multiple='layer',\n",
    "    edgecolor=\".3\",\n",
    "    linewidth=.5,\n",
    ");"
   ]
  },
  {
   "cell_type": "code",
   "execution_count": 17,
   "id": "2e1451ef-472c-4aa1-bc1b-23f2c3abccc9",
   "metadata": {},
   "outputs": [
    {
     "name": "stdout",
     "output_type": "stream",
     "text": [
      "average age of survived passengers is: 28.34\n",
      "average age of non_survived passengers is : 30.63.\n"
     ]
    }
   ],
   "source": [
    "mean_age_s = data[data['Survived'] == 1].Age.mean()\n",
    "mean_age_n = data[data['Survived'] == 0].Age.mean()\n",
    "\n",
    "print(f'average age of survived passengers is: {round(mean_age_s,2)}\\naverage age of non_survived passengers is : {round(mean_age_n,2)}.')\n"
   ]
  },
  {
   "cell_type": "markdown",
   "id": "3d9b11e8-3715-49cc-94a7-92c12607f6d6",
   "metadata": {},
   "source": [
    "Fare distribution"
   ]
  },
  {
   "cell_type": "code",
   "execution_count": 18,
   "id": "9190dd49-8602-492f-8fd2-2cc2c8523c72",
   "metadata": {},
   "outputs": [
    {
     "data": {
      "text/plain": [
       "<AxesSubplot:xlabel='Fare', ylabel='Survived'>"
      ]
     },
     "execution_count": 18,
     "metadata": {},
     "output_type": "execute_result"
    },
    {
     "data": {
      "image/png": "[encoded data removed]",
      "text/plain": [
       "<Figure size 1080x576 with 1 Axes>"
      ]
     },
     "metadata": {
      "needs_background": "light"
     },
     "output_type": "display_data"
    }
   ],
   "source": [
    "plt.figure(figsize=(15,8))\n",
    "sns.stripplot(x=data[\"Fare\"], y=data[\"Survived\"].astype(str), size = 5)"
   ]
  },
  {
   "cell_type": "markdown",
   "id": "55db05ce-ba12-47fb-8feb-dd1393cbaec0",
   "metadata": {},
   "source": [
    "Bar chart for Embarked"
   ]
  },
  {
   "cell_type": "code",
   "execution_count": 19,
   "id": "93d76ff6-1547-4acd-a50b-29d3c72bc42e",
   "metadata": {},
   "outputs": [
    {
     "data": {
      "image/png": "[encoded data removed]",
      "text/plain": [
       "<Figure size 432x288 with 1 Axes>"
      ]
     },
     "metadata": {
      "needs_background": "light"
     },
     "output_type": "display_data"
    }
   ],
   "source": [
    "ax = sns.countplot(x='Embarked',data=data,hue='Survived');\n",
    "ax.set_xticklabels(['Southampton','Cherbourg','Queenstown']);\n",
    "plt.xticks(rotation = 45);\n",
    "plt.legend(['Non-Survived', 'Survived']);"
   ]
  },
  {
   "cell_type": "markdown",
   "id": "9c1a69bf-2009-431d-b591-fcf75ac08766",
   "metadata": {},
   "source": [
    "Bar chart for Relatives (SibSp + Parch)"
   ]
  },
  {
   "cell_type": "code",
   "execution_count": 20,
   "id": "e1b7949c-c8ea-4f26-a5d9-0397eefb6026",
   "metadata": {},
   "outputs": [
    {
     "data": {
      "image/png": "[encoded data removed]",
      "text/plain": [
       "<Figure size 432x288 with 1 Axes>"
      ]
     },
     "metadata": {
      "needs_background": "light"
     },
     "output_type": "display_data"
    }
   ],
   "source": [
    "data['Relatives'] = data['SibSp'] + data['Parch'] \n",
    "ax = sns.countplot(x='Relatives',data=data,hue='Survived');\n",
    "ax.set_xlabel(\"Number of Relatives\")\n",
    "plt.legend(['Non-Survived', 'Survived']);"
   ]
  },
  {
   "cell_type": "markdown",
   "id": "4070e154-cf7c-4d50-8d45-2e62d4ec023e",
   "metadata": {},
   "source": [
    "Define small and large families"
   ]
  },
  {
   "cell_type": "code",
   "execution_count": 21,
   "id": "1015136e-01ad-4b1d-aaf1-7ef38233d7ff",
   "metadata": {},
   "outputs": [
    {
     "data": {
      "text/html": [
       "<div>\n",
       "<style scoped>\n",
       "    .dataframe tbody tr th:only-of-type {\n",
       "        vertical-align: middle;\n",
       "    }\n",
       "\n",
       "    .dataframe tbody tr th {\n",
       "        vertical-align: top;\n",
       "    }\n",
       "\n",
       "    .dataframe thead th {\n",
       "        text-align: right;\n",
       "    }\n",
       "</style>\n",
       "<table border=\"1\" class=\"dataframe\">\n",
       "  <thead>\n",
       "    <tr style=\"text-align: right;\">\n",
       "      <th></th>\n",
       "      <th>Survived</th>\n",
       "      <th>Pclass</th>\n",
       "      <th>Name</th>\n",
       "      <th>Sex</th>\n",
       "      <th>Age</th>\n",
       "      <th>SibSp</th>\n",
       "      <th>Parch</th>\n",
       "      <th>Ticket</th>\n",
       "      <th>Fare</th>\n",
       "      <th>Cabin</th>\n",
       "      <th>Embarked</th>\n",
       "      <th>Relatives</th>\n",
       "      <th>Family</th>\n",
       "    </tr>\n",
       "    <tr>\n",
       "      <th>PassengerId</th>\n",
       "      <th></th>\n",
       "      <th></th>\n",
       "      <th></th>\n",
       "      <th></th>\n",
       "      <th></th>\n",
       "      <th></th>\n",
       "      <th></th>\n",
       "      <th></th>\n",
       "      <th></th>\n",
       "      <th></th>\n",
       "      <th></th>\n",
       "      <th></th>\n",
       "      <th></th>\n",
       "    </tr>\n",
       "  </thead>\n",
       "  <tbody>\n",
       "    <tr>\n",
       "      <th>1</th>\n",
       "      <td>0</td>\n",
       "      <td>3</td>\n",
       "      <td>Braund, Mr. Owen Harris</td>\n",
       "      <td>male</td>\n",
       "      <td>22.0</td>\n",
       "      <td>1</td>\n",
       "      <td>0</td>\n",
       "      <td>A/5 21171</td>\n",
       "      <td>7.2500</td>\n",
       "      <td>NaN</td>\n",
       "      <td>S</td>\n",
       "      <td>1</td>\n",
       "      <td>small</td>\n",
       "    </tr>\n",
       "    <tr>\n",
       "      <th>2</th>\n",
       "      <td>1</td>\n",
       "      <td>1</td>\n",
       "      <td>Cumings, Mrs. John Bradley (Florence Briggs Th...</td>\n",
       "      <td>female</td>\n",
       "      <td>38.0</td>\n",
       "      <td>1</td>\n",
       "      <td>0</td>\n",
       "      <td>PC 17599</td>\n",
       "      <td>71.2833</td>\n",
       "      <td>C85</td>\n",
       "      <td>C</td>\n",
       "      <td>1</td>\n",
       "      <td>small</td>\n",
       "    </tr>\n",
       "    <tr>\n",
       "      <th>3</th>\n",
       "      <td>1</td>\n",
       "      <td>3</td>\n",
       "      <td>Heikkinen, Miss. Laina</td>\n",
       "      <td>female</td>\n",
       "      <td>26.0</td>\n",
       "      <td>0</td>\n",
       "      <td>0</td>\n",
       "      <td>STON/O2. 3101282</td>\n",
       "      <td>7.9250</td>\n",
       "      <td>NaN</td>\n",
       "      <td>S</td>\n",
       "      <td>0</td>\n",
       "      <td>small</td>\n",
       "    </tr>\n",
       "  </tbody>\n",
       "</table>\n",
       "</div>"
      ],
      "text/plain": [
       "             Survived  Pclass  \\\n",
       "PassengerId                     \n",
       "1                   0       3   \n",
       "2                   1       1   \n",
       "3                   1       3   \n",
       "\n",
       "                                                          Name     Sex   Age  \\\n",
       "PassengerId                                                                    \n",
       "1                                      Braund, Mr. Owen Harris    male  22.0   \n",
       "2            Cumings, Mrs. John Bradley (Florence Briggs Th...  female  38.0   \n",
       "3                                       Heikkinen, Miss. Laina  female  26.0   \n",
       "\n",
       "             SibSp  Parch            Ticket     Fare Cabin Embarked  \\\n",
       "PassengerId                                                           \n",
       "1                1      0         A/5 21171   7.2500   NaN        S   \n",
       "2                1      0          PC 17599  71.2833   C85        C   \n",
       "3                0      0  STON/O2. 3101282   7.9250   NaN        S   \n",
       "\n",
       "             Relatives Family  \n",
       "PassengerId                    \n",
       "1                    1  small  \n",
       "2                    1  small  \n",
       "3                    0  small  "
      ]
     },
     "execution_count": 21,
     "metadata": {},
     "output_type": "execute_result"
    }
   ],
   "source": [
    "cut_bins = [-0.1,3,10]\n",
    "cut_labels= ['small','big']\n",
    "data['Family']= pd.cut(data['Relatives'], bins=cut_bins,labels=cut_labels,ordered = False)\n",
    "data.head(3)"
   ]
  },
  {
   "cell_type": "markdown",
   "id": "b9c7bba2-8a6f-4f4c-a45a-d77a208f8594",
   "metadata": {},
   "source": [
    "Bar chart for family size"
   ]
  },
  {
   "cell_type": "code",
   "execution_count": 22,
   "id": "e3335be5-dac1-4920-8c63-aae99180228c",
   "metadata": {},
   "outputs": [
    {
     "data": {
      "image/png": "[encoded data removed]",
      "text/plain": [
       "<Figure size 432x288 with 1 Axes>"
      ]
     },
     "metadata": {
      "needs_background": "light"
     },
     "output_type": "display_data"
    }
   ],
   "source": [
    "ax = sns.countplot(x='Family',data=data,hue='Survived');\n",
    "ax.set_xlabel(\"Family Size\")\n",
    "plt.legend(['Non-Survived', 'Survived']);"
   ]
  },
  {
   "cell_type": "code",
   "execution_count": 23,
   "id": "84a1a445-750c-426f-aeef-dfe75671866d",
   "metadata": {},
   "outputs": [
    {
     "data": {
      "text/html": [
       "<div>\n",
       "<style scoped>\n",
       "    .dataframe tbody tr th:only-of-type {\n",
       "        vertical-align: middle;\n",
       "    }\n",
       "\n",
       "    .dataframe tbody tr th {\n",
       "        vertical-align: top;\n",
       "    }\n",
       "\n",
       "    .dataframe thead th {\n",
       "        text-align: right;\n",
       "    }\n",
       "</style>\n",
       "<table border=\"1\" class=\"dataframe\">\n",
       "  <thead>\n",
       "    <tr style=\"text-align: right;\">\n",
       "      <th></th>\n",
       "      <th></th>\n",
       "      <th>Pclass</th>\n",
       "    </tr>\n",
       "    <tr>\n",
       "      <th>Survived</th>\n",
       "      <th>Family</th>\n",
       "      <th></th>\n",
       "    </tr>\n",
       "  </thead>\n",
       "  <tbody>\n",
       "    <tr>\n",
       "      <th rowspan=\"2\" valign=\"top\">0</th>\n",
       "      <th>small</th>\n",
       "      <td>497</td>\n",
       "    </tr>\n",
       "    <tr>\n",
       "      <th>big</th>\n",
       "      <td>52</td>\n",
       "    </tr>\n",
       "    <tr>\n",
       "      <th rowspan=\"2\" valign=\"top\">1</th>\n",
       "      <th>small</th>\n",
       "      <td>332</td>\n",
       "    </tr>\n",
       "    <tr>\n",
       "      <th>big</th>\n",
       "      <td>10</td>\n",
       "    </tr>\n",
       "  </tbody>\n",
       "</table>\n",
       "</div>"
      ],
      "text/plain": [
       "                 Pclass\n",
       "Survived Family        \n",
       "0        small      497\n",
       "         big         52\n",
       "1        small      332\n",
       "         big         10"
      ]
     },
     "execution_count": 23,
     "metadata": {},
     "output_type": "execute_result"
    }
   ],
   "source": [
    "data.groupby([\"Survived\",\"Family\"]).count()[['Pclass']]"
   ]
  },
  {
   "cell_type": "markdown",
   "id": "47a849a3-a5a7-48ec-b1a0-52286bbe7ad9",
   "metadata": {},
   "source": [
    "### Logistic Regression"
   ]
  },
  {
   "cell_type": "code",
   "execution_count": 24,
   "id": "3d1da1a3-5036-4034-a05f-c2a472cee084",
   "metadata": {},
   "outputs": [],
   "source": [
    "# define features and target\n",
    "X = data.drop(['Survived','SibSp','Parch','Family'], axis=1)\n",
    "y = data['Survived']"
   ]
  },
  {
   "cell_type": "code",
   "execution_count": 25,
   "id": "95a97134-5045-4dcb-af97-cb0420b22d36",
   "metadata": {},
   "outputs": [
    {
     "name": "stdout",
     "output_type": "stream",
     "text": [
      "<class 'pandas.core.frame.DataFrame'>\n",
      "Int64Index: 891 entries, 1 to 891\n",
      "Data columns (total 9 columns):\n",
      " #   Column     Non-Null Count  Dtype  \n",
      "---  ------     --------------  -----  \n",
      " 0   Pclass     891 non-null    int64  \n",
      " 1   Name       891 non-null    object \n",
      " 2   Sex        891 non-null    object \n",
      " 3   Age        714 non-null    float64\n",
      " 4   Ticket     891 non-null    object \n",
      " 5   Fare       891 non-null    float64\n",
      " 6   Cabin      204 non-null    object \n",
      " 7   Embarked   889 non-null    object \n",
      " 8   Relatives  891 non-null    int64  \n",
      "dtypes: float64(2), int64(2), object(5)\n",
      "memory usage: 69.6+ KB\n"
     ]
    }
   ],
   "source": [
    "X.info()"
   ]
  },
  {
   "cell_type": "code",
   "execution_count": 26,
   "id": "84c67c71-f706-4ae8-bbd0-bf1520cb57a0",
   "metadata": {},
   "outputs": [],
   "source": [
    "# Train-test split of the data\n",
    "X_train,X_test,y_train, y_test = train_test_split(X,y,test_size=0.25,random_state=100)"
   ]
  },
  {
   "cell_type": "markdown",
   "id": "4ee560fe-86aa-40a3-9032-4f9d2f2f9389",
   "metadata": {},
   "source": [
    "#### feature engineering"
   ]
  },
  {
   "cell_type": "code",
   "execution_count": 27,
   "id": "be92e5fe-d339-46b5-b792-59e499334f8c",
   "metadata": {},
   "outputs": [
    {
     "name": "stdout",
     "output_type": "stream",
     "text": [
      "<class 'pandas.core.frame.DataFrame'>\n",
      "Int64Index: 891 entries, 1 to 891\n",
      "Data columns (total 13 columns):\n",
      " #   Column     Non-Null Count  Dtype   \n",
      "---  ------     --------------  -----   \n",
      " 0   Survived   891 non-null    int64   \n",
      " 1   Pclass     891 non-null    int64   \n",
      " 2   Name       891 non-null    object  \n",
      " 3   Sex        891 non-null    object  \n",
      " 4   Age        714 non-null    float64 \n",
      " 5   SibSp      891 non-null    int64   \n",
      " 6   Parch      891 non-null    int64   \n",
      " 7   Ticket     891 non-null    object  \n",
      " 8   Fare       891 non-null    float64 \n",
      " 9   Cabin      204 non-null    object  \n",
      " 10  Embarked   889 non-null    object  \n",
      " 11  Relatives  891 non-null    int64   \n",
      " 12  Family     891 non-null    category\n",
      "dtypes: category(1), float64(2), int64(5), object(5)\n",
      "memory usage: 91.5+ KB\n"
     ]
    }
   ],
   "source": [
    "# data summary\n",
    "data.info()"
   ]
  },
  {
   "cell_type": "markdown",
   "id": "776faca5-038c-4ad5-8929-9d478ff5051e",
   "metadata": {},
   "source": [
    "**Columns and summarizing thoughts for logisitc regression:**\n",
    "\n",
    "`Pclass`: Since it is ordinal and already numeric, keep it as it is \n",
    "\n",
    "`Name:` Length of name might be a useful feature\n",
    "\n",
    "`Sex:` Categorical, but not ordinal, needs onehot encoding\n",
    "\n",
    "`Àge:` Numerical data, impute (e.g. mean of class), needs binning \n",
    "\n",
    "`SibSp:` Numerical data, It is not considered in the features. Insetead of it, Relatives is considered \n",
    "\n",
    "`Parch:` Numerical data, It is not considered in the features. Insetead of it, Relatives is considered \n",
    "\n",
    "`Relatives:` Numerical data, It is sum of SibSb and Parch, needs binning \n",
    "\n",
    "`Ticket:` It is not considered in the Features\n",
    "\n",
    "`Fare:` Scaling definitely needed, outliers to be considered (see box plot)\n",
    "\n",
    "`Cabin:` Extract first letter and length of number, \n",
    "\n",
    "`Èmbarked:` Imputing (most frequent), needs onehot encoding"
   ]
  },
  {
   "cell_type": "code",
   "execution_count": 28,
   "id": "11a04115-15e0-44ad-9d6b-6a1da3296336",
   "metadata": {},
   "outputs": [],
   "source": [
    "# Name\n",
    "def name_length(df):\n",
    "    length = df['Name'].str.len()\n",
    "    return length.values.reshape(-1, 1)"
   ]
  },
  {
   "cell_type": "code",
   "execution_count": 29,
   "id": "f9113da5-d32d-45e2-8fdb-1c7d6066e422",
   "metadata": {},
   "outputs": [],
   "source": [
    "# Sex, Ticket, Embarked\n",
    "sex_emb_pipe = make_pipeline(\n",
    "    OneHotEncoder(sparse=False, handle_unknown='ignore')\n",
    ")"
   ]
  },
  {
   "cell_type": "code",
   "execution_count": 30,
   "id": "1c178fc9-50d3-411f-8dfe-b4593767b765",
   "metadata": {},
   "outputs": [],
   "source": [
    "# Age\n",
    "age_pipe = make_pipeline(\n",
    "   SimpleImputer(strategy='mean'),\n",
    "   KBinsDiscretizer(n_bins=5, encode='onehot-dense', strategy='uniform'))"
   ]
  },
  {
   "cell_type": "code",
   "execution_count": 31,
   "id": "30265f52-c823-45a3-a374-e4e88f9f4372",
   "metadata": {},
   "outputs": [],
   "source": [
    "# Relatieves\n",
    "rel_pipe = make_pipeline(\n",
    "   KBinsDiscretizer(n_bins=2, encode='onehot-dense', strategy='uniform')\n",
    ")"
   ]
  },
  {
   "cell_type": "code",
   "execution_count": 32,
   "id": "81ebb4b5-7bf9-4526-8a0b-610a4e11112f",
   "metadata": {},
   "outputs": [],
   "source": [
    "# Fare\n",
    "fare_pipe = make_pipeline(\n",
    "    RobustScaler() # Handles outliers better than other scalers\n",
    ")"
   ]
  },
  {
   "cell_type": "code",
   "execution_count": 33,
   "id": "b1f3abde-d37f-4657-b200-553a3cb22335",
   "metadata": {},
   "outputs": [],
   "source": [
    "# Cabin\n",
    "def get_deck(df):\n",
    "    # fill  values with N\n",
    "    df.fillna('N',inplace = True)\n",
    "    # extract deck from cabin\n",
    "    deck = df.iloc[:,0].apply(lambda x: str(x)[0].upper())\n",
    "    # replace T with N (T counted as unknown)\n",
    "    for idx, item in deck.items():\n",
    "        deck[idx] = item.replace('T', 'N')   \n",
    "    return deck.values.reshape(-1,1)\n",
    "\n",
    "cab_pipe = make_pipeline(\n",
    "    FunctionTransformer(get_deck ),\n",
    "    OneHotEncoder(sparse=False, handle_unknown='ignore')\n",
    ")"
   ]
  },
  {
   "cell_type": "code",
   "execution_count": 34,
   "id": "94d52de9-2242-4667-b8cd-cba6f1cd8549",
   "metadata": {},
   "outputs": [],
   "source": [
    "# Embarked\n",
    "emb_pipe = make_pipeline(\n",
    "   SimpleImputer(strategy='most_frequent'),\n",
    "   OneHotEncoder(sparse=False, handle_unknown='ignore')\n",
    ")"
   ]
  },
  {
   "cell_type": "code",
   "execution_count": 42,
   "id": "7f0e876e-ca18-4331-80d5-ce0e9f3e7a11",
   "metadata": {},
   "outputs": [],
   "source": [
    "preprocessor = ColumnTransformer([\n",
    "    ('do_nothing', 'passthrough', ['Pclass']),\n",
    "    ('get_string_length', FunctionTransformer(name_length), ['Name']),\n",
    "    ('onehot_encoding',sex_emb_pipe,['Sex']),\n",
    "    ('impute_and_binning',age_pipe,['Age']),\n",
    "    ('relatives',rel_pipe,['Relatives']),\n",
    "    ('scale',fare_pipe,['Fare']),\n",
    "    ('get_deck',cab_pipe,['Cabin']),\n",
    "    ('impute_and_onehot_encoding',emb_pipe,['Embarked'])\n",
    "])"
   ]
  },
  {
   "cell_type": "markdown",
   "id": "9520f5cf-5a8d-44df-bdc7-a8a5efe2a4b7",
   "metadata": {},
   "source": [
    "#### Create Classifier"
   ]
  },
  {
   "cell_type": "code",
   "execution_count": 43,
   "id": "3c967789-4140-494e-9831-e719d6f40a2c",
   "metadata": {},
   "outputs": [],
   "source": [
    "# create log_reg mdoel\n",
    "log_reg = make_pipeline(\n",
    "    preprocessor,\n",
    "    LogisticRegression(C=1e9,max_iter=3000)\n",
    ")"
   ]
  },
  {
   "cell_type": "code",
   "execution_count": 83,
   "id": "7ef9ef4a-a74c-4a15-9b90-6b064fbccfa5",
   "metadata": {},
   "outputs": [
    {
     "data": {
      "text/html": [
       "<style>#sk-container-id-2 {color: black;background-color: white;}#sk-container-id-2 pre{padding: 0;}#sk-container-id-2 div.sk-toggleable {background-color: white;}#sk-container-id-2 label.sk-toggleable__label {cursor: pointer;display: block;width: 100%;margin-bottom: 0;padding: 0.3em;box-sizing: border-box;text-align: center;}#sk-container-id-2 label.sk-toggleable__label-arrow:before {content: \"▸\";float: left;margin-right: 0.25em;color: #696969;}#sk-container-id-2 label.sk-toggleable__label-arrow:hover:before {color: black;}#sk-container-id-2 div.sk-estimator:hover label.sk-toggleable__label-arrow:before {color: black;}#sk-container-id-2 div.sk-toggleable__content {max-height: 0;max-width: 0;overflow: hidden;text-align: left;background-color: #f0f8ff;}#sk-container-id-2 div.sk-toggleable__content pre {margin: 0.2em;color: black;border-radius: 0.25em;background-color: #f0f8ff;}#sk-container-id-2 input.sk-toggleable__control:checked~div.sk-toggleable__content {max-height: 200px;max-width: 100%;overflow: auto;}#sk-container-id-2 input.sk-toggleable__control:checked~label.sk-toggleable__label-arrow:before {content: \"▾\";}#sk-container-id-2 div.sk-estimator input.sk-toggleable__control:checked~label.sk-toggleable__label {background-color: #d4ebff;}#sk-container-id-2 div.sk-label input.sk-toggleable__control:checked~label.sk-toggleable__label {background-color: #d4ebff;}#sk-container-id-2 input.sk-hidden--visually {border: 0;clip: rect(1px 1px 1px 1px);clip: rect(1px, 1px, 1px, 1px);height: 1px;margin: -1px;overflow: hidden;padding: 0;position: absolute;width: 1px;}#sk-container-id-2 div.sk-estimator {font-family: monospace;background-color: #f0f8ff;border: 1px dotted black;border-radius: 0.25em;box-sizing: border-box;margin-bottom: 0.5em;}#sk-container-id-2 div.sk-estimator:hover {background-color: #d4ebff;}#sk-container-id-2 div.sk-parallel-item::after {content: \"\";width: 100%;border-bottom: 1px solid gray;flex-grow: 1;}#sk-container-id-2 div.sk-label:hover label.sk-toggleable__label {background-color: #d4ebff;}#sk-container-id-2 div.sk-serial::before {content: \"\";position: absolute;border-left: 1px solid gray;box-sizing: border-box;top: 0;bottom: 0;left: 50%;z-index: 0;}#sk-container-id-2 div.sk-serial {display: flex;flex-direction: column;align-items: center;background-color: white;padding-right: 0.2em;padding-left: 0.2em;position: relative;}#sk-container-id-2 div.sk-item {position: relative;z-index: 1;}#sk-container-id-2 div.sk-parallel {display: flex;align-items: stretch;justify-content: center;background-color: white;position: relative;}#sk-container-id-2 div.sk-item::before, #sk-container-id-2 div.sk-parallel-item::before {content: \"\";position: absolute;border-left: 1px solid gray;box-sizing: border-box;top: 0;bottom: 0;left: 50%;z-index: -1;}#sk-container-id-2 div.sk-parallel-item {display: flex;flex-direction: column;z-index: 1;position: relative;background-color: white;}#sk-container-id-2 div.sk-parallel-item:first-child::after {align-self: flex-end;width: 50%;}#sk-container-id-2 div.sk-parallel-item:last-child::after {align-self: flex-start;width: 50%;}#sk-container-id-2 div.sk-parallel-item:only-child::after {width: 0;}#sk-container-id-2 div.sk-dashed-wrapped {border: 1px dashed gray;margin: 0 0.4em 0.5em 0.4em;box-sizing: border-box;padding-bottom: 0.4em;background-color: white;}#sk-container-id-2 div.sk-label label {font-family: monospace;font-weight: bold;display: inline-block;line-height: 1.2em;}#sk-container-id-2 div.sk-label-container {text-align: center;}#sk-container-id-2 div.sk-container {/* jupyter's `normalize.less` sets `[hidden] { display: none; }` but bootstrap.min.css set `[hidden] { display: none !important; }` so we also need the `!important` here to be able to override the default hidden behavior on the sphinx rendered scikit-learn.org. See: https://github.com/scikit-learn/scikit-learn/issues/21755 */display: inline-block !important;position: relative;}#sk-container-id-2 div.sk-text-repr-fallback {display: none;}</style><div id=\"sk-container-id-2\" class=\"sk-top-container\"><div class=\"sk-text-repr-fallback\"><pre>Pipeline(steps=[(&#x27;columntransformer&#x27;,\n",
       "                 ColumnTransformer(transformers=[(&#x27;do_nothing&#x27;, &#x27;passthrough&#x27;,\n",
       "                                                  [&#x27;Pclass&#x27;]),\n",
       "                                                 (&#x27;get_string_length&#x27;,\n",
       "                                                  FunctionTransformer(func=&lt;function name_length at 0x7fda08257670&gt;),\n",
       "                                                  [&#x27;Name&#x27;]),\n",
       "                                                 (&#x27;onehot_encoding&#x27;,\n",
       "                                                  Pipeline(steps=[(&#x27;onehotencoder&#x27;,\n",
       "                                                                   OneHotEncoder(handle_unknown=&#x27;ignore&#x27;,\n",
       "                                                                                 sparse=False))]),\n",
       "                                                  [&#x27;Sex&#x27;]),\n",
       "                                                 (&#x27;impute_and_binning&#x27;,\n",
       "                                                  Pipeline...\n",
       "                                                                   FunctionTransformer(func=&lt;function get_deck at 0x7fda0825e550&gt;)),\n",
       "                                                                  (&#x27;onehotencoder&#x27;,\n",
       "                                                                   OneHotEncoder(handle_unknown=&#x27;ignore&#x27;,\n",
       "                                                                                 sparse=False))]),\n",
       "                                                  [&#x27;Cabin&#x27;]),\n",
       "                                                 (&#x27;impute_and_onehot_encoding&#x27;,\n",
       "                                                  Pipeline(steps=[(&#x27;simpleimputer&#x27;,\n",
       "                                                                   SimpleImputer(strategy=&#x27;most_frequent&#x27;)),\n",
       "                                                                  (&#x27;onehotencoder&#x27;,\n",
       "                                                                   OneHotEncoder(handle_unknown=&#x27;ignore&#x27;,\n",
       "                                                                                 sparse=False))]),\n",
       "                                                  [&#x27;Embarked&#x27;])])),\n",
       "                (&#x27;logisticregression&#x27;,\n",
       "                 LogisticRegression(C=1000000000.0, max_iter=3000))])</pre><b>In a Jupyter environment, please rerun this cell to show the HTML representation or trust the notebook. <br />On GitHub, the HTML representation is unable to render, please try loading this page with nbviewer.org.</b></div><div class=\"sk-container\" hidden><div class=\"sk-item sk-dashed-wrapped\"><div class=\"sk-label-container\"><div class=\"sk-label sk-toggleable\"><input class=\"sk-toggleable__control sk-hidden--visually\" id=\"sk-estimator-id-23\" type=\"checkbox\" ><label for=\"sk-estimator-id-23\" class=\"sk-toggleable__label sk-toggleable__label-arrow\">Pipeline</label><div class=\"sk-toggleable__content\"><pre>Pipeline(steps=[(&#x27;columntransformer&#x27;,\n",
       "                 ColumnTransformer(transformers=[(&#x27;do_nothing&#x27;, &#x27;passthrough&#x27;,\n",
       "                                                  [&#x27;Pclass&#x27;]),\n",
       "                                                 (&#x27;get_string_length&#x27;,\n",
       "                                                  FunctionTransformer(func=&lt;function name_length at 0x7fda08257670&gt;),\n",
       "                                                  [&#x27;Name&#x27;]),\n",
       "                                                 (&#x27;onehot_encoding&#x27;,\n",
       "                                                  Pipeline(steps=[(&#x27;onehotencoder&#x27;,\n",
       "                                                                   OneHotEncoder(handle_unknown=&#x27;ignore&#x27;,\n",
       "                                                                                 sparse=False))]),\n",
       "                                                  [&#x27;Sex&#x27;]),\n",
       "                                                 (&#x27;impute_and_binning&#x27;,\n",
       "                                                  Pipeline...\n",
       "                                                                   FunctionTransformer(func=&lt;function get_deck at 0x7fda0825e550&gt;)),\n",
       "                                                                  (&#x27;onehotencoder&#x27;,\n",
       "                                                                   OneHotEncoder(handle_unknown=&#x27;ignore&#x27;,\n",
       "                                                                                 sparse=False))]),\n",
       "                                                  [&#x27;Cabin&#x27;]),\n",
       "                                                 (&#x27;impute_and_onehot_encoding&#x27;,\n",
       "                                                  Pipeline(steps=[(&#x27;simpleimputer&#x27;,\n",
       "                                                                   SimpleImputer(strategy=&#x27;most_frequent&#x27;)),\n",
       "                                                                  (&#x27;onehotencoder&#x27;,\n",
       "                                                                   OneHotEncoder(handle_unknown=&#x27;ignore&#x27;,\n",
       "                                                                                 sparse=False))]),\n",
       "                                                  [&#x27;Embarked&#x27;])])),\n",
       "                (&#x27;logisticregression&#x27;,\n",
       "                 LogisticRegression(C=1000000000.0, max_iter=3000))])</pre></div></div></div><div class=\"sk-serial\"><div class=\"sk-item sk-dashed-wrapped\"><div class=\"sk-label-container\"><div class=\"sk-label sk-toggleable\"><input class=\"sk-toggleable__control sk-hidden--visually\" id=\"sk-estimator-id-24\" type=\"checkbox\" ><label for=\"sk-estimator-id-24\" class=\"sk-toggleable__label sk-toggleable__label-arrow\">columntransformer: ColumnTransformer</label><div class=\"sk-toggleable__content\"><pre>ColumnTransformer(transformers=[(&#x27;do_nothing&#x27;, &#x27;passthrough&#x27;, [&#x27;Pclass&#x27;]),\n",
       "                                (&#x27;get_string_length&#x27;,\n",
       "                                 FunctionTransformer(func=&lt;function name_length at 0x7fda08257670&gt;),\n",
       "                                 [&#x27;Name&#x27;]),\n",
       "                                (&#x27;onehot_encoding&#x27;,\n",
       "                                 Pipeline(steps=[(&#x27;onehotencoder&#x27;,\n",
       "                                                  OneHotEncoder(handle_unknown=&#x27;ignore&#x27;,\n",
       "                                                                sparse=False))]),\n",
       "                                 [&#x27;Sex&#x27;]),\n",
       "                                (&#x27;impute_and_binning&#x27;,\n",
       "                                 Pipeline(steps=[(&#x27;simpleimputer&#x27;,\n",
       "                                                  SimpleImpute...\n",
       "                                 Pipeline(steps=[(&#x27;functiontransformer&#x27;,\n",
       "                                                  FunctionTransformer(func=&lt;function get_deck at 0x7fda0825e550&gt;)),\n",
       "                                                 (&#x27;onehotencoder&#x27;,\n",
       "                                                  OneHotEncoder(handle_unknown=&#x27;ignore&#x27;,\n",
       "                                                                sparse=False))]),\n",
       "                                 [&#x27;Cabin&#x27;]),\n",
       "                                (&#x27;impute_and_onehot_encoding&#x27;,\n",
       "                                 Pipeline(steps=[(&#x27;simpleimputer&#x27;,\n",
       "                                                  SimpleImputer(strategy=&#x27;most_frequent&#x27;)),\n",
       "                                                 (&#x27;onehotencoder&#x27;,\n",
       "                                                  OneHotEncoder(handle_unknown=&#x27;ignore&#x27;,\n",
       "                                                                sparse=False))]),\n",
       "                                 [&#x27;Embarked&#x27;])])</pre></div></div></div><div class=\"sk-parallel\"><div class=\"sk-parallel-item\"><div class=\"sk-item\"><div class=\"sk-label-container\"><div class=\"sk-label sk-toggleable\"><input class=\"sk-toggleable__control sk-hidden--visually\" id=\"sk-estimator-id-25\" type=\"checkbox\" ><label for=\"sk-estimator-id-25\" class=\"sk-toggleable__label sk-toggleable__label-arrow\">do_nothing</label><div class=\"sk-toggleable__content\"><pre>[&#x27;Pclass&#x27;]</pre></div></div></div><div class=\"sk-serial\"><div class=\"sk-item\"><div class=\"sk-estimator sk-toggleable\"><input class=\"sk-toggleable__control sk-hidden--visually\" id=\"sk-estimator-id-26\" type=\"checkbox\" ><label for=\"sk-estimator-id-26\" class=\"sk-toggleable__label sk-toggleable__label-arrow\">passthrough</label><div class=\"sk-toggleable__content\"><pre>passthrough</pre></div></div></div></div></div></div><div class=\"sk-parallel-item\"><div class=\"sk-item\"><div class=\"sk-label-container\"><div class=\"sk-label sk-toggleable\"><input class=\"sk-toggleable__control sk-hidden--visually\" id=\"sk-estimator-id-27\" type=\"checkbox\" ><label for=\"sk-estimator-id-27\" class=\"sk-toggleable__label sk-toggleable__label-arrow\">get_string_length</label><div class=\"sk-toggleable__content\"><pre>[&#x27;Name&#x27;]</pre></div></div></div><div class=\"sk-serial\"><div class=\"sk-item\"><div class=\"sk-estimator sk-toggleable\"><input class=\"sk-toggleable__control sk-hidden--visually\" id=\"sk-estimator-id-28\" type=\"checkbox\" ><label for=\"sk-estimator-id-28\" class=\"sk-toggleable__label sk-toggleable__label-arrow\">FunctionTransformer</label><div class=\"sk-toggleable__content\"><pre>FunctionTransformer(func=&lt;function name_length at 0x7fda08257670&gt;)</pre></div></div></div></div></div></div><div class=\"sk-parallel-item\"><div class=\"sk-item\"><div class=\"sk-label-container\"><div class=\"sk-label sk-toggleable\"><input class=\"sk-toggleable__control sk-hidden--visually\" id=\"sk-estimator-id-29\" type=\"checkbox\" ><label for=\"sk-estimator-id-29\" class=\"sk-toggleable__label sk-toggleable__label-arrow\">onehot_encoding</label><div class=\"sk-toggleable__content\"><pre>[&#x27;Sex&#x27;]</pre></div></div></div><div class=\"sk-serial\"><div class=\"sk-item\"><div class=\"sk-serial\"><div class=\"sk-item\"><div class=\"sk-estimator sk-toggleable\"><input class=\"sk-toggleable__control sk-hidden--visually\" id=\"sk-estimator-id-30\" type=\"checkbox\" ><label for=\"sk-estimator-id-30\" class=\"sk-toggleable__label sk-toggleable__label-arrow\">OneHotEncoder</label><div class=\"sk-toggleable__content\"><pre>OneHotEncoder(handle_unknown=&#x27;ignore&#x27;, sparse=False)</pre></div></div></div></div></div></div></div></div><div class=\"sk-parallel-item\"><div class=\"sk-item\"><div class=\"sk-label-container\"><div class=\"sk-label sk-toggleable\"><input class=\"sk-toggleable__control sk-hidden--visually\" id=\"sk-estimator-id-31\" type=\"checkbox\" ><label for=\"sk-estimator-id-31\" class=\"sk-toggleable__label sk-toggleable__label-arrow\">impute_and_binning</label><div class=\"sk-toggleable__content\"><pre>[&#x27;Age&#x27;]</pre></div></div></div><div class=\"sk-serial\"><div class=\"sk-item\"><div class=\"sk-serial\"><div class=\"sk-item\"><div class=\"sk-estimator sk-toggleable\"><input class=\"sk-toggleable__control sk-hidden--visually\" id=\"sk-estimator-id-32\" type=\"checkbox\" ><label for=\"sk-estimator-id-32\" class=\"sk-toggleable__label sk-toggleable__label-arrow\">SimpleImputer</label><div class=\"sk-toggleable__content\"><pre>SimpleImputer()</pre></div></div></div><div class=\"sk-item\"><div class=\"sk-estimator sk-toggleable\"><input class=\"sk-toggleable__control sk-hidden--visually\" id=\"sk-estimator-id-33\" type=\"checkbox\" ><label for=\"sk-estimator-id-33\" class=\"sk-toggleable__label sk-toggleable__label-arrow\">KBinsDiscretizer</label><div class=\"sk-toggleable__content\"><pre>KBinsDiscretizer(encode=&#x27;onehot-dense&#x27;, strategy=&#x27;uniform&#x27;)</pre></div></div></div></div></div></div></div></div><div class=\"sk-parallel-item\"><div class=\"sk-item\"><div class=\"sk-label-container\"><div class=\"sk-label sk-toggleable\"><input class=\"sk-toggleable__control sk-hidden--visually\" id=\"sk-estimator-id-34\" type=\"checkbox\" ><label for=\"sk-estimator-id-34\" class=\"sk-toggleable__label sk-toggleable__label-arrow\">relatives</label><div class=\"sk-toggleable__content\"><pre>[&#x27;Relatives&#x27;]</pre></div></div></div><div class=\"sk-serial\"><div class=\"sk-item\"><div class=\"sk-serial\"><div class=\"sk-item\"><div class=\"sk-estimator sk-toggleable\"><input class=\"sk-toggleable__control sk-hidden--visually\" id=\"sk-estimator-id-35\" type=\"checkbox\" ><label for=\"sk-estimator-id-35\" class=\"sk-toggleable__label sk-toggleable__label-arrow\">KBinsDiscretizer</label><div class=\"sk-toggleable__content\"><pre>KBinsDiscretizer(encode=&#x27;onehot-dense&#x27;, n_bins=2, strategy=&#x27;uniform&#x27;)</pre></div></div></div></div></div></div></div></div><div class=\"sk-parallel-item\"><div class=\"sk-item\"><div class=\"sk-label-container\"><div class=\"sk-label sk-toggleable\"><input class=\"sk-toggleable__control sk-hidden--visually\" id=\"sk-estimator-id-36\" type=\"checkbox\" ><label for=\"sk-estimator-id-36\" class=\"sk-toggleable__label sk-toggleable__label-arrow\">scale</label><div class=\"sk-toggleable__content\"><pre>[&#x27;Fare&#x27;]</pre></div></div></div><div class=\"sk-serial\"><div class=\"sk-item\"><div class=\"sk-serial\"><div class=\"sk-item\"><div class=\"sk-estimator sk-toggleable\"><input class=\"sk-toggleable__control sk-hidden--visually\" id=\"sk-estimator-id-37\" type=\"checkbox\" ><label for=\"sk-estimator-id-37\" class=\"sk-toggleable__label sk-toggleable__label-arrow\">RobustScaler</label><div class=\"sk-toggleable__content\"><pre>RobustScaler()</pre></div></div></div></div></div></div></div></div><div class=\"sk-parallel-item\"><div class=\"sk-item\"><div class=\"sk-label-container\"><div class=\"sk-label sk-toggleable\"><input class=\"sk-toggleable__control sk-hidden--visually\" id=\"sk-estimator-id-38\" type=\"checkbox\" ><label for=\"sk-estimator-id-38\" class=\"sk-toggleable__label sk-toggleable__label-arrow\">get_deck</label><div class=\"sk-toggleable__content\"><pre>[&#x27;Cabin&#x27;]</pre></div></div></div><div class=\"sk-serial\"><div class=\"sk-item\"><div class=\"sk-serial\"><div class=\"sk-item\"><div class=\"sk-estimator sk-toggleable\"><input class=\"sk-toggleable__control sk-hidden--visually\" id=\"sk-estimator-id-39\" type=\"checkbox\" ><label for=\"sk-estimator-id-39\" class=\"sk-toggleable__label sk-toggleable__label-arrow\">FunctionTransformer</label><div class=\"sk-toggleable__content\"><pre>FunctionTransformer(func=&lt;function get_deck at 0x7fda0825e550&gt;)</pre></div></div></div><div class=\"sk-item\"><div class=\"sk-estimator sk-toggleable\"><input class=\"sk-toggleable__control sk-hidden--visually\" id=\"sk-estimator-id-40\" type=\"checkbox\" ><label for=\"sk-estimator-id-40\" class=\"sk-toggleable__label sk-toggleable__label-arrow\">OneHotEncoder</label><div class=\"sk-toggleable__content\"><pre>OneHotEncoder(handle_unknown=&#x27;ignore&#x27;, sparse=False)</pre></div></div></div></div></div></div></div></div><div class=\"sk-parallel-item\"><div class=\"sk-item\"><div class=\"sk-label-container\"><div class=\"sk-label sk-toggleable\"><input class=\"sk-toggleable__control sk-hidden--visually\" id=\"sk-estimator-id-41\" type=\"checkbox\" ><label for=\"sk-estimator-id-41\" class=\"sk-toggleable__label sk-toggleable__label-arrow\">impute_and_onehot_encoding</label><div class=\"sk-toggleable__content\"><pre>[&#x27;Embarked&#x27;]</pre></div></div></div><div class=\"sk-serial\"><div class=\"sk-item\"><div class=\"sk-serial\"><div class=\"sk-item\"><div class=\"sk-estimator sk-toggleable\"><input class=\"sk-toggleable__control sk-hidden--visually\" id=\"sk-estimator-id-42\" type=\"checkbox\" ><label for=\"sk-estimator-id-42\" class=\"sk-toggleable__label sk-toggleable__label-arrow\">SimpleImputer</label><div class=\"sk-toggleable__content\"><pre>SimpleImputer(strategy=&#x27;most_frequent&#x27;)</pre></div></div></div><div class=\"sk-item\"><div class=\"sk-estimator sk-toggleable\"><input class=\"sk-toggleable__control sk-hidden--visually\" id=\"sk-estimator-id-43\" type=\"checkbox\" ><label for=\"sk-estimator-id-43\" class=\"sk-toggleable__label sk-toggleable__label-arrow\">OneHotEncoder</label><div class=\"sk-toggleable__content\"><pre>OneHotEncoder(handle_unknown=&#x27;ignore&#x27;, sparse=False)</pre></div></div></div></div></div></div></div></div></div></div><div class=\"sk-item\"><div class=\"sk-estimator sk-toggleable\"><input class=\"sk-toggleable__control sk-hidden--visually\" id=\"sk-estimator-id-44\" type=\"checkbox\" ><label for=\"sk-estimator-id-44\" class=\"sk-toggleable__label sk-toggleable__label-arrow\">LogisticRegression</label><div class=\"sk-toggleable__content\"><pre>LogisticRegression(C=1000000000.0, max_iter=3000)</pre></div></div></div></div></div></div></div>"
      ],
      "text/plain": [
       "Pipeline(steps=[('columntransformer',\n",
       "                 ColumnTransformer(transformers=[('do_nothing', 'passthrough',\n",
       "                                                  ['Pclass']),\n",
       "                                                 ('get_string_length',\n",
       "                                                  FunctionTransformer(func=<function name_length at 0x7fda08257670>),\n",
       "                                                  ['Name']),\n",
       "                                                 ('onehot_encoding',\n",
       "                                                  Pipeline(steps=[('onehotencoder',\n",
       "                                                                   OneHotEncoder(handle_unknown='ignore',\n",
       "                                                                                 sparse=False))]),\n",
       "                                                  ['Sex']),\n",
       "                                                 ('impute_and_binning',\n",
       "                                                  Pipeline...\n",
       "                                                                   FunctionTransformer(func=<function get_deck at 0x7fda0825e550>)),\n",
       "                                                                  ('onehotencoder',\n",
       "                                                                   OneHotEncoder(handle_unknown='ignore',\n",
       "                                                                                 sparse=False))]),\n",
       "                                                  ['Cabin']),\n",
       "                                                 ('impute_and_onehot_encoding',\n",
       "                                                  Pipeline(steps=[('simpleimputer',\n",
       "                                                                   SimpleImputer(strategy='most_frequent')),\n",
       "                                                                  ('onehotencoder',\n",
       "                                                                   OneHotEncoder(handle_unknown='ignore',\n",
       "                                                                                 sparse=False))]),\n",
       "                                                  ['Embarked'])])),\n",
       "                ('logisticregression',\n",
       "                 LogisticRegression(C=1000000000.0, max_iter=3000))])"
      ]
     },
     "execution_count": 83,
     "metadata": {},
     "output_type": "execute_result"
    }
   ],
   "source": [
    "log_reg.fit(X_train,y_train)\n"
   ]
  },
  {
   "cell_type": "code",
   "execution_count": 165,
   "id": "89fb4f2f-28c7-49be-9730-02de1481bd2f",
   "metadata": {},
   "outputs": [],
   "source": [
    "y_pred = log_reg.predict(X_test)"
   ]
  },
  {
   "cell_type": "markdown",
   "id": "4823f81d-fba6-4656-a09b-65b98205d044",
   "metadata": {},
   "source": [
    "#### Evaluate classifier"
   ]
  },
  {
   "cell_type": "code",
   "execution_count": 166,
   "id": "88e9d38c-106c-4d51-9191-801342b8fa97",
   "metadata": {},
   "outputs": [
    {
     "name": "stderr",
     "output_type": "stream",
     "text": [
      "/Users/milad/opt/anaconda3/lib/python3.9/site-packages/sklearn/utils/deprecation.py:87: FutureWarning: Function plot_confusion_matrix is deprecated; Function `plot_confusion_matrix` is deprecated in 1.0 and will be removed in 1.2. Use one of the class methods: ConfusionMatrixDisplay.from_predictions or ConfusionMatrixDisplay.from_estimator.\n",
      "  warnings.warn(msg, category=FutureWarning)\n"
     ]
    },
    {
     "data": {
      "image/png": "[encoded data removed]",
      "text/plain": [
       "<Figure size 432x288 with 2 Axes>"
      ]
     },
     "metadata": {
      "needs_background": "light"
     },
     "output_type": "display_data"
    }
   ],
   "source": [
    "# plot confusion matrix\n",
    "metrics.plot_confusion_matrix(log_reg, X_test, y_test,\n",
    "                              values_format=\".4g\", \n",
    "                              cmap='Blues'\n",
    "                             );"
   ]
  },
  {
   "cell_type": "code",
   "execution_count": 192,
   "id": "c7354bde-5b84-4d96-9d4d-cc1451175e6e",
   "metadata": {},
   "outputs": [
    {
     "name": "stderr",
     "output_type": "stream",
     "text": [
      "/Users/milad/opt/anaconda3/lib/python3.9/site-packages/sklearn/utils/deprecation.py:87: FutureWarning: Function plot_roc_curve is deprecated; Function :func:`plot_roc_curve` is deprecated in 1.0 and will be removed in 1.2. Use one of the class methods: :meth:`sklearn.metrics.RocCurveDisplay.from_predictions` or :meth:`sklearn.metrics.RocCurveDisplay.from_estimator`.\n",
      "  warnings.warn(msg, category=FutureWarning)\n"
     ]
    },
    {
     "data": {
      "text/plain": [
       "<sklearn.metrics._plot.roc_curve.RocCurveDisplay at 0x7fda1aed7b50>"
      ]
     },
     "execution_count": 192,
     "metadata": {},
     "output_type": "execute_result"
    },
    {
     "data": {
      "image/png": "[encoded data removed]",
      "text/plain": [
       "<Figure size 432x288 with 1 Axes>"
      ]
     },
     "metadata": {
      "needs_background": "light"
     },
     "output_type": "display_data"
    }
   ],
   "source": [
    "metrics.plot_roc_curve(log_reg, X_test, y_test)"
   ]
  },
  {
   "cell_type": "code",
   "execution_count": 167,
   "id": "a3722541-1107-45be-b357-40f39b26727f",
   "metadata": {},
   "outputs": [],
   "source": [
    "def print_evaluation_metrics(model,X_train,X_test,y_train,y_test,y_pred):\n",
    "    \"\"\" Print out some evaluation metrics \"\"\"\n",
    "    print(f'train score: {round(model.score(X_train,y_train),2)}')\n",
    "    print(f'test score: {round(model.score(X_test,y_test),2)}')\n",
    "    print(f'precision: {round(metrics.precision_score(y_test, y_pred, average=\"binary\",pos_label=1),2)}') \n",
    "    print(f'recall: {round(metrics.recall_score(y_test, y_pred, average=\"binary\",pos_label=1),2)}')\n",
    "    print(f'f1: {round(metrics.f1_score(y_test, y_pred, average=\"binary\",pos_label=1),2)}')"
   ]
  },
  {
   "cell_type": "code",
   "execution_count": 168,
   "id": "546cc869-4261-4861-a6cb-d2162cff5868",
   "metadata": {},
   "outputs": [
    {
     "name": "stdout",
     "output_type": "stream",
     "text": [
      "train score: 0.83\n",
      "test score: 0.81\n",
      "precision: 0.81\n",
      "recall: 0.72\n",
      "f1: 0.76\n"
     ]
    }
   ],
   "source": [
    "print_evaluation_metrics(log_reg,X_train,X_test,y_train,y_test,y_pred)"
   ]
  },
  {
   "cell_type": "code",
   "execution_count": 71,
   "id": "1516ddb9-6c1c-4bac-85a0-c4aa57c3e9f0",
   "metadata": {},
   "outputs": [
    {
     "data": {
      "text/plain": [
       "0.8113230838289753"
      ]
     },
     "execution_count": 71,
     "metadata": {},
     "output_type": "execute_result"
    }
   ],
   "source": [
    "# cross validation\n",
    "cross_val_score(log_reg, X_train, y_train, cv = 5, scoring='accuracy').mean()"
   ]
  },
  {
   "cell_type": "code",
   "execution_count": 231,
   "id": "0ce1625f-0144-4417-99de-9d875d399e08",
   "metadata": {},
   "outputs": [],
   "source": [
    "def save_evaluation_metrics(classifier,classifier_name, summary ,X_train,y_train,X_test,y_test,y_pred):\n",
    "    \n",
    "    summary['Classifier Name'].append(classifier_name)\n",
    "    summary['Train Score'].append(round(classifier.score(X_train, y_train),2))\n",
    "    summary['Test Score'].append(round(classifier.score(X_test, y_test),2))\n",
    "    summary['AUC'].append(metrics.roc_auc_score(y_test,classifier.predict_proba(X_test)[:, 1]))\n",
    "    summary['Precision'].append(round(metrics.precision_score(y_test, y_pred, average=\"binary\",pos_label=1),2)) \n",
    "    summary['Recall'].append(round(metrics.recall_score(y_test, y_pred, average=\"binary\",pos_label=1),2))\n",
    "    summary['F1'].append(round(metrics.f1_score(y_test, y_pred, average=\"binary\",pos_label=1),2))\n",
    "    \n",
    "    return summary"
   ]
  },
  {
   "cell_type": "code",
   "execution_count": 232,
   "id": "b049aed2-7f45-4a0f-b19b-d14b8391d2aa",
   "metadata": {},
   "outputs": [],
   "source": [
    "summary = {'Classifier Name':[],'Train Score':[],'Test Score':[],\n",
    "                   'Accuracy':[],'AUC':[],'Precision':[],'Recall':[],'F1':[]}"
   ]
  },
  {
   "cell_type": "code",
   "execution_count": 233,
   "id": "eeb6fce5-19ec-4618-913b-663d6128bee3",
   "metadata": {},
   "outputs": [],
   "source": [
    "summary = save_evaluation_metrics(log_reg,'Logistic Regressin',summary, X_train,y_train,X_test,y_test,y_pred)"
   ]
  },
  {
   "cell_type": "code",
   "execution_count": 234,
   "id": "84e1a1ba-9103-440b-99f2-68c617980b45",
   "metadata": {},
   "outputs": [
    {
     "data": {
      "text/plain": [
       "{'Classifier Name': ['Logistic Regressin'],\n",
       " 'Train Score': [0.83],\n",
       " 'Test Score': [0.81],\n",
       " 'Accuracy': [],\n",
       " 'AUC': [0.8571194225721785],\n",
       " 'Precision': [0.81],\n",
       " 'Recall': [0.72],\n",
       " 'F1': [0.76]}"
      ]
     },
     "execution_count": 234,
     "metadata": {},
     "output_type": "execute_result"
    }
   ],
   "source": [
    "summary"
   ]
  },
  {
   "cell_type": "code",
   "execution_count": null,
   "id": "4b062234-6093-4506-b4bb-348854029ffb",
   "metadata": {},
   "outputs": [],
   "source": []
  }
 ],
 "metadata": {
  "kernelspec": {
   "display_name": "Python 3 (ipykernel)",
   "language": "python",
   "name": "python3"
  },
  "language_info": {
   "codemirror_mode": {
    "name": "ipython",
    "version": 3
   },
   "file_extension": ".py",
   "mimetype": "text/x-python",
   "name": "python",
   "nbconvert_exporter": "python",
   "pygments_lexer": "ipython3",
   "version": "3.9.12"
  }
 },
 "nbformat": 4,
 "nbformat_minor": 5
}
